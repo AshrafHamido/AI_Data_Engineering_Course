{
  "nbformat": 4,
  "nbformat_minor": 0,
  "metadata": {
    "colab": {
      "provenance": [],
      "authorship_tag": "ABX9TyPzR8Q7HWjQdBGr/HTwlmB+",
      "include_colab_link": true
    },
    "kernelspec": {
      "name": "python3",
      "display_name": "Python 3"
    },
    "language_info": {
      "name": "python"
    }
  },
  "cells": [
    {
      "cell_type": "markdown",
      "metadata": {
        "id": "view-in-github",
        "colab_type": "text"
      },
      "source": [
        "<a href=\"https://colab.research.google.com/github/AshrafHamido/AI_Data_Engineering_Course/blob/main/First%20GColab%20Sample.ipynb\" target=\"_parent\"><img src=\"https://colab.research.google.com/assets/colab-badge.svg\" alt=\"Open In Colab\"/></a>"
      ]
    },
    {
      "cell_type": "code",
      "execution_count": 2,
      "metadata": {
        "colab": {
          "base_uri": "https://localhost:8080/"
        },
        "id": "qd3dZPD7P1GK",
        "outputId": "8414c8bb-9970-4a64-b708-97a66d87eac0"
      },
      "outputs": [
        {
          "output_type": "stream",
          "name": "stdout",
          "text": [
            "Hello AI Data Engineering Course by DPro\n"
          ]
        }
      ],
      "source": [
        "# prompt: print Hello AI Data Engineering Course by DPro in python\n",
        "\n",
        "print(\"Hello AI Data Engineering Course by DPro\")"
      ]
    }
  ]
}